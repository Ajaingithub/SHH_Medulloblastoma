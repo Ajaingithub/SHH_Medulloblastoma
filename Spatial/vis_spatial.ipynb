{
 "cells": [
  {
   "cell_type": "code",
   "execution_count": 46,
   "metadata": {},
   "outputs": [
    {
     "data": {
      "text/plain": [
       "<module 'preprocessing' from '/diazlab/data3/.abhinav/projects/SHH/Visium/3rd_strict_cutoff/python/preprocessing.py'>"
      ]
     },
     "execution_count": 46,
     "metadata": {},
     "output_type": "execute_result"
    }
   ],
   "source": [
    "import os\n",
    "os.chdir(\"/diazlab/data3/.abhinav/projects/SHH/Visium/3rd_strict_cutoff/python/\")\n",
    "import importlib\n",
    "import preprocessing\n",
    "importlib.reload(preprocessing)"
   ]
  },
  {
   "cell_type": "code",
   "execution_count": 48,
   "metadata": {},
   "outputs": [
    {
     "name": "stdout",
     "output_type": "stream",
     "text": [
      "Cells after min genes > 500 and MT filter < 20 filter: 1563\n",
      "Genes after min cells filter = 10: 11265\n",
      "WARNING: saving figure to file figures/umap_SHH_SF03521.pdf\n",
      "WARNING: saving figure to file figures/show_spatial_SHH_SF03521.pdf\n",
      "WARNING: dendrogram data not found (using key=dendrogram_clusters). Running `sc.tl.dendrogram` with default parameters. For fine tuning it is recommended to run `sc.tl.dendrogram` independently.\n",
      "WARNING: saving figure to file figures/heatmap_SHH_SF03521.pdf\n",
      "Cells after min genes > 500 and MT filter < 20 filter: 950\n",
      "Genes after min cells filter = 10: 10651\n",
      "WARNING: saving figure to file figures/umap_SHH_SF07994.pdf\n",
      "WARNING: saving figure to file figures/show_spatial_SHH_SF07994.pdf\n",
      "WARNING: dendrogram data not found (using key=dendrogram_clusters). Running `sc.tl.dendrogram` with default parameters. For fine tuning it is recommended to run `sc.tl.dendrogram` independently.\n",
      "WARNING: saving figure to file figures/heatmap_SHH_SF07994.pdf\n",
      "Cells after min genes > 500 and MT filter < 20 filter: 580\n",
      "Genes after min cells filter = 10: 10488\n",
      "WARNING: saving figure to file figures/umap_SHH_SF08539.pdf\n",
      "WARNING: saving figure to file figures/show_spatial_SHH_SF08539.pdf\n",
      "WARNING: dendrogram data not found (using key=dendrogram_clusters). Running `sc.tl.dendrogram` with default parameters. For fine tuning it is recommended to run `sc.tl.dendrogram` independently.\n",
      "WARNING: saving figure to file figures/heatmap_SHH_SF08539.pdf\n",
      "Cells after min genes > 500 and MT filter < 20 filter: 1819\n",
      "Genes after min cells filter = 10: 13047\n",
      "WARNING: saving figure to file figures/umap_SHH_SF09782.pdf\n",
      "WARNING: saving figure to file figures/show_spatial_SHH_SF09782.pdf\n",
      "WARNING: dendrogram data not found (using key=dendrogram_clusters). Running `sc.tl.dendrogram` with default parameters. For fine tuning it is recommended to run `sc.tl.dendrogram` independently.\n",
      "WARNING: saving figure to file figures/heatmap_SHH_SF09782.pdf\n",
      "Cells after min genes > 500 and MT filter < 20 filter: 2253\n",
      "Genes after min cells filter = 10: 11778\n",
      "WARNING: saving figure to file figures/umap_SHH_SF10067.pdf\n",
      "WARNING: saving figure to file figures/show_spatial_SHH_SF10067.pdf\n",
      "WARNING: dendrogram data not found (using key=dendrogram_clusters). Running `sc.tl.dendrogram` with default parameters. For fine tuning it is recommended to run `sc.tl.dendrogram` independently.\n",
      "WARNING: saving figure to file figures/heatmap_SHH_SF10067.pdf\n",
      "Cells after min genes > 500 and MT filter < 20 filter: 2853\n",
      "Genes after min cells filter = 10: 13120\n",
      "WARNING: saving figure to file figures/umap_SHH_SF10210.pdf\n",
      "WARNING: saving figure to file figures/show_spatial_SHH_SF10210.pdf\n",
      "WARNING: dendrogram data not found (using key=dendrogram_clusters). Running `sc.tl.dendrogram` with default parameters. For fine tuning it is recommended to run `sc.tl.dendrogram` independently.\n",
      "WARNING: saving figure to file figures/heatmap_SHH_SF10210.pdf\n",
      "Cells after min genes > 500 and MT filter < 20 filter: 2225\n",
      "Genes after min cells filter = 10: 14503\n",
      "WARNING: saving figure to file figures/umap_SHH_SF12434.pdf\n",
      "WARNING: saving figure to file figures/show_spatial_SHH_SF12434.pdf\n",
      "WARNING: dendrogram data not found (using key=dendrogram_clusters). Running `sc.tl.dendrogram` with default parameters. For fine tuning it is recommended to run `sc.tl.dendrogram` independently.\n",
      "WARNING: saving figure to file figures/heatmap_SHH_SF12434.pdf\n"
     ]
    }
   ],
   "source": [
    "# We would also like to have dataframe before and after filtering\n",
    "import pandas as pd\n",
    "\n",
    "results_list = []\n",
    "\n",
    "file_names = [\n",
    "    \"SHH_SF03521.h5ad\", \"SHH_SF07994.h5ad\", \"SHH_SF08539.h5ad\",\n",
    "    \"SHH_SF09782.h5ad\", \"SHH_SF10067.h5ad\", \"SHH_SF10210.h5ad\", \n",
    "    \"SHH_SF12434.h5ad\"\n",
    "    ]\n",
    "\n",
    "# Input files and output directory paths\n",
    "input_dir = \"/diazlab/data3/.abhinav/projects/SHH/Visium/scanpy/\"\n",
    "output_dir = \"/diazlab/data3/.abhinav/projects/SHH/Visium/3rd_strict_cutoff/python/\"\n",
    "\n",
    "# Loop over each sample \n",
    "for file_name in file_names:\n",
    "    input_file = input_dir + file_name\n",
    "    output_prefix = file_name.replace(\".h5ad\", \"\")  # Remove file extension to use as output prefix\n",
    "\n",
    "    processed_data,cells_before,cells_after,genes_before,genes_after = preprocessing.process_and_visualize_data(input_file, output_dir, output_prefix)\n",
    "\n",
    "    results_list.append({\n",
    "        \"Sample\": output_prefix,\n",
    "        \"cells_before\": cells_before,\n",
    "        \"cells_after\": cells_after,\n",
    "        \"genes_before\": genes_before,\n",
    "        \"genes_after\": genes_after\n",
    "    })\n",
    "\n",
    "    \n",
    "    # Store the processed data\n",
    "    globals()[output_prefix] = processed_data\n",
    "\n",
    "# Create a DataFrame from the results list\n",
    "results_df = pd.DataFrame(results_list)\n",
    "\n",
    "# Save the results to a CSV file\n",
    "os.makedirs(os.path.join(output_dir,\"Table\"), exist_ok=True)\n",
    "results_df.to_csv(os.path.join(output_dir, \"Table/cell_counts_summary.csv\"), index=False)"
   ]
  },
  {
   "cell_type": "code",
   "execution_count": 49,
   "metadata": {},
   "outputs": [
    {
     "name": "stdout",
     "output_type": "stream",
     "text": [
      "Cells after min genes > 500 and MT filter < 20 filter: 797\n",
      "Genes after min cells filter = 10: 9988\n",
      "WARNING: saving figure to file figures/umap_SF08539_2.pdf\n",
      "WARNING: saving figure to file figures/show_spatial_SF08539_2.pdf\n",
      "WARNING: dendrogram data not found (using key=dendrogram_clusters). Running `sc.tl.dendrogram` with default parameters. For fine tuning it is recommended to run `sc.tl.dendrogram` independently.\n",
      "WARNING: saving figure to file figures/heatmap_SF08539_2.pdf\n",
      "Cells after min genes > 500 and MT filter < 20 filter: 2871\n",
      "Genes after min cells filter = 10: 13029\n",
      "WARNING: saving figure to file figures/umap_SF09782_2.pdf\n",
      "WARNING: saving figure to file figures/show_spatial_SF09782_2.pdf\n",
      "WARNING: dendrogram data not found (using key=dendrogram_clusters). Running `sc.tl.dendrogram` with default parameters. For fine tuning it is recommended to run `sc.tl.dendrogram` independently.\n",
      "WARNING: saving figure to file figures/heatmap_SF09782_2.pdf\n"
     ]
    }
   ],
   "source": [
    "file_names = [\"SF08539_2\",\"SF09782_2\"]\n",
    "\n",
    "# Define the paths for input files and output directory\n",
    "input_dirs = [\"/diazlab/data3/.abhinav/projects/SHH/Visium/2nd/SF08539/outs/\", \n",
    "             \"/diazlab/data3/.abhinav/projects/SHH/Visium/2nd/SF09782/outs/\"]\n",
    "\n",
    "output_dir = \"/diazlab/data3/.abhinav/projects/SHH/Visium/3rd_strict_cutoff/python/\"\n",
    "\n",
    "for input_dir, file_name in zip(input_dirs, file_names):\n",
    "    processed_data,cells_before,cells_after,genes_before,genes_after = preprocessing.process_and_visualize_data(input_dir, output_dir, file_name)\n",
    "    globals()[file_name] = processed_data\n",
    "\n",
    "    results_list.append({\n",
    "        \"Sample\": file_name,\n",
    "        \"cells_before\": cells_before,\n",
    "        \"cells_after\": cells_after,\n",
    "        \"genes_before\": genes_before,\n",
    "        \"genes_after\": genes_after\n",
    "    })\n",
    "\n",
    "    \n",
    "    # Store the processed data\n",
    "    globals()[output_prefix] = processed_data\n",
    "\n",
    "# Create a DataFrame from the results list\n",
    "results_df = pd.DataFrame(results_list)\n",
    "\n",
    "# Save the results to a CSV file\n",
    "os.makedirs(os.path.join(output_dir,\"Table\"), exist_ok=True)\n",
    "results_df.to_csv(os.path.join(output_dir, \"Table/cell_counts_summary.csv\"), index=False)\n"
   ]
  },
  {
   "cell_type": "markdown",
   "metadata": {},
   "source": [
    "### Performing all the sample integration\n",
    "\n",
    "Removing the low quality samples"
   ]
  },
  {
   "cell_type": "code",
   "execution_count": 1,
   "metadata": {},
   "outputs": [],
   "source": [
    "## Loading Libraries\n",
    "import scanpy as sc\n",
    "import pandas as pd\n",
    "import matplotlib.pyplot as plt\n",
    "import seaborn as sns"
   ]
  },
  {
   "cell_type": "code",
   "execution_count": 51,
   "metadata": {},
   "outputs": [
    {
     "name": "stdout",
     "output_type": "stream",
     "text": [
      "['SF08539_2', 'SF09782_2', 'SHH_SF03521', 'SHH_SF07994', 'SHH_SF08539', 'SHH_SF09782', 'SHH_SF10067', 'SHH_SF10210', 'SHH_SF12434']\n"
     ]
    }
   ],
   "source": [
    "# Filter out internal Python variables\n",
    "user_vars = [var for var in dir() if not var.startswith('_')]\n",
    "sf_vars = [var for var in user_vars if 'SF' in var]\n",
    "print(sf_vars)"
   ]
  },
  {
   "cell_type": "code",
   "execution_count": 53,
   "metadata": {},
   "outputs": [
    {
     "name": "stdout",
     "output_type": "stream",
     "text": [
      "Found 8441 genes among all datasets\n",
      "[[0.         0.         0.         0.00862069 0.3793293  0.\n",
      "  0.         1.        ]\n",
      " [0.         0.         0.25052632 0.01206897 0.         0.02885042\n",
      "  0.621881   0.        ]\n",
      " [0.         0.         0.         0.03793103 0.01473684 0.0497115\n",
      "  0.02315789 0.        ]\n",
      " [0.         0.         0.         0.         0.16206897 0.20689655\n",
      "  0.         0.00344828]\n",
      " [0.         0.         0.         0.         0.         0.05104305\n",
      "  0.         0.34964266]\n",
      " [0.         0.         0.         0.         0.         0.\n",
      "  0.         0.        ]\n",
      " [0.         0.         0.         0.         0.         0.\n",
      "  0.         0.        ]\n",
      " [0.         0.         0.         0.         0.         0.\n",
      "  0.         0.        ]]\n",
      "Processing datasets (0, 7)\n",
      "Processing datasets (1, 6)\n",
      "Processing datasets (0, 4)\n",
      "Processing datasets (4, 7)\n",
      "Processing datasets (1, 2)\n",
      "Processing datasets (3, 5)\n",
      "Processing datasets (3, 4)\n"
     ]
    }
   ],
   "source": [
    "# Correcting for the batch effect\n",
    "import scanorama\n",
    "adatas = [SF09782_2, SHH_SF03521, SHH_SF07994, SHH_SF08539, SHH_SF09782, SHH_SF10067, SHH_SF10210, SHH_SF12434]\n",
    "adata_cor = scanorama.correct_scanpy(adatas, return_dimred=True)"
   ]
  },
  {
   "cell_type": "code",
   "execution_count": 131,
   "metadata": {},
   "outputs": [
    {
     "data": {
      "text/plain": [
       "AnnData object with n_obs × n_vars = 2871 × 13029\n",
       "    obs: 'in_tissue', 'array_row', 'array_col', 'n_genes_by_counts', 'log1p_n_genes_by_counts', 'total_counts', 'log1p_total_counts', 'pct_counts_in_top_50_genes', 'pct_counts_in_top_100_genes', 'pct_counts_in_top_200_genes', 'pct_counts_in_top_500_genes', 'total_counts_mt', 'log1p_total_counts_mt', 'pct_counts_mt', 'n_genes', 'clusters'\n",
       "    var: 'gene_ids', 'feature_types', 'genome', 'mt', 'n_cells_by_counts', 'mean_counts', 'log1p_mean_counts', 'pct_dropout_by_counts', 'total_counts', 'log1p_total_counts', 'n_cells', 'highly_variable', 'means', 'dispersions', 'dispersions_norm'\n",
       "    uns: 'spatial', 'log1p', 'hvg', 'pca', 'neighbors', 'umap', 'clusters', 'clusters_colors', 'rank_genes_groups', 'dendrogram_clusters'\n",
       "    obsm: 'spatial', 'X_pca', 'X_umap'\n",
       "    varm: 'PCs'\n",
       "    obsp: 'distances', 'connectivities'"
      ]
     },
     "execution_count": 131,
     "metadata": {},
     "output_type": "execute_result"
    }
   ],
   "source": [
    "SF09782_2"
   ]
  },
  {
   "cell_type": "code",
   "execution_count": 81,
   "metadata": {},
   "outputs": [],
   "source": [
    "    keys=[\n",
    "        k\n",
    "        for d in [\n",
    "            adata_cor[0].uns[\"spatial\"],\n",
    "            adata_cor[1].uns[\"spatial\"],\n",
    "            adata_cor[2].uns[\"spatial\"],\n",
    "            adata_cor[3].uns[\"spatial\"],\n",
    "            adata_cor[4].uns[\"spatial\"],\n",
    "            adata_cor[5].uns[\"spatial\"],\n",
    "            adata_cor[6].uns[\"spatial\"],\n",
    "            adata_cor[7].uns[\"spatial\"]\n",
    "        ]\n",
    "        for k, v in d.items()\n",
    "    ]"
   ]
  },
  {
   "cell_type": "code",
   "execution_count": 125,
   "metadata": {},
   "outputs": [
    {
     "data": {
      "text/plain": [
       "['SF09782_0',\n",
       " 'SF03521_1',\n",
       " 'SF07994_2',\n",
       " 'SF08539_3',\n",
       " 'SF09782_4',\n",
       " 'SF10067_5',\n",
       " 'SF10210_6',\n",
       " 'SF09782_7']"
      ]
     },
     "execution_count": 125,
     "metadata": {},
     "output_type": "execute_result"
    }
   ],
   "source": [
    "# Extract keys from each adata_cor's uns[\"spatial\"] and store them in a list\n",
    "all_keys = []\n",
    "for i in range(8):  # Iterate from 0 to 7\n",
    "    spatial_keys = adata_cor[i].uns[\"spatial\"].keys()  # Get the keys of the spatial dictionary\n",
    "    for key in spatial_keys:\n",
    "        all_keys.append(f\"{key}_{i}\")  # Append index to make the keys unique\n",
    "all_keys\n"
   ]
  },
  {
   "cell_type": "code",
   "execution_count": null,
   "metadata": {},
   "outputs": [],
   "source": [
    "## We will concatenate the two datasets and save the integrated embeddings in adata_spatial.obsm['scanorama_embedding']. \n",
    "# Furthermore we will compute UMAP to visualize the results and qualitatively assess the data integration task.\n",
    "\n",
    "# Notice that we are concatenating the dataset with uns_merge=\"unique\" strategy, in order to keep both images \n",
    "# from the visium datasets in the concatenated anndata object.\n",
    "\n",
    "adata_spatial = sc.concat(\n",
    "    adata_cor,\n",
    "    label=\"library_id\",\n",
    "    uns_merge=\"unique\",\n",
    "    keys=all_keys,\n",
    "    index_unique=\"-\",\n",
    ")\n",
    "\n",
    "sc.pp.neighbors(adata_spatial, use_rep=\"X_scanorama\")\n",
    "sc.tl.umap(adata_spatial)\n",
    "sc.tl.leiden(adata_spatial, key_added=\"clusters\")"
   ]
  },
  {
   "cell_type": "code",
   "execution_count": 134,
   "metadata": {},
   "outputs": [
    {
     "name": "stdout",
     "output_type": "stream",
     "text": [
      "WARNING: saving figure to file figures/umap_combined.pdf\n"
     ]
    },
    {
     "data": {
      "text/plain": [
       "[<Axes: title={'center': 'clusters'}, xlabel='UMAP1', ylabel='UMAP2'>,\n",
       " <Axes: title={'center': 'library_id'}, xlabel='UMAP1', ylabel='UMAP2'>]"
      ]
     },
     "execution_count": 134,
     "metadata": {},
     "output_type": "execute_result"
    }
   ],
   "source": [
    "sc.pl.umap(adata_spatial, \n",
    "           color=[\"clusters\", \"library_id\"], \n",
    "           size=30, \n",
    "           save=\"_combined.pdf\", \n",
    "           show = False\n",
    ")"
   ]
  },
  {
   "cell_type": "code",
   "execution_count": null,
   "metadata": {},
   "outputs": [],
   "source": [
    "\n",
    "# We can also visualize the clustering result in spatial coordinates. For that, we first need to save the cluster colors in a \n",
    "# dictionary. We can then plot the Visium tissue fo the Anterior and Posterior Sagittal view, alongside each other\n",
    "clusters_colors = dict(\n",
    "    zip([str(i) for i in range(18)], adata_spatial.uns[\"clusters_colors\"])\n",
    ")\n",
    "\n",
    "fig, axs = plt.subplots(1, 4, figsize=(20, 5))\n",
    "\n",
    "for i, library in enumerate(\n",
    "    ['slide_018_A1_R', 'slide_018_D11_R', 'slide_075_A1', 'slide_075_D1']\n",
    "):\n",
    "    ad = adata_spatial[adata_spatial.obs.library_id == library, :].copy()\n",
    "    sc.pl.spatial(\n",
    "        ad,\n",
    "        img_key=\"hires\",\n",
    "        library_id=library,\n",
    "        color=\"clusters\",\n",
    "        bw=False,\n",
    "        alpha_img=0,\n",
    "        size=1.3,\n",
    "        palette=[\n",
    "            v\n",
    "            for k, v in clusters_colors.items()\n",
    "            if k in ad.obs.clusters.unique().tolist()\n",
    "        ],\n",
    "        legend_loc=None,\n",
    "        show=False,\n",
    "        ax=axs[i],\n",
    "    )\n",
    "\n",
    "plt.savefig(\"spatial_clusters.png\")\n",
    "\n",
    "sc.pp.normalize_total(adata_spatial, inplace=True)\n",
    "sc.pp.log1p(adata_spatial)\n",
    "\n",
    "### Find the Markers in these clusters\n",
    "### Cluster marker genes\n",
    "sc.tl.rank_genes_groups(adata_spatial, \"clusters\", method=\"t-test\")\n",
    "sc.pl.rank_genes_groups_heatmap(adata_spatial, n_genes=5, groupby=\"clusters\", show_gene_labels=True)\n",
    "plt.savefig(\"heatmap_markers.png\")\n",
    "\n",
    "import pandas as pd\n",
    "\n",
    "# Assuming adata_spatial.uns['rank_genes_groups'] is your dictionary\n",
    "rank_genes_groups_dict = adata_spatial.uns['rank_genes_groups']\n",
    "\n",
    "# Extract relevant arrays from the dictionary\n",
    "names_array = rank_genes_groups_dict['names']\n",
    "scores_array = rank_genes_groups_dict['scores']\n",
    "pvals_array = rank_genes_groups_dict['pvals']\n",
    "pvals_adj_array = rank_genes_groups_dict['pvals_adj']\n",
    "logfoldchanges_array = rank_genes_groups_dict['logfoldchanges']\n",
    "\n",
    "pd.DataFrame((names_array)) ### this show each clusters has different gene names as told to bottom markers and so on for scores, pvalue, etc. \n",
    "genes = [\"MGP\",\"COL1A2\",\"IGHG3\",\"IGHA1\",\"COL3A1\"]\n",
    "\n",
    "plt.rcParams[\"figure.figsize\"] = (8, 8)\n",
    "sc.pl.spatial(adata_spatial, img_key=\"hires\", color=[\"MT-CO2\",\"MGP\",\"COL1A2\",\"IGHG3\",\"IGHA1\",\"COL3A1\",\"CLEC4E\",\"SIRPA\"], bw=False, alpha_img=0, size=1.3)\n",
    "plt.savefig(savedir + \"spatial_topgenes.png\")\n"
   ]
  }
 ],
 "metadata": {
  "kernelspec": {
   "display_name": "Python 3",
   "language": "python",
   "name": "python3"
  },
  "language_info": {
   "codemirror_mode": {
    "name": "ipython",
    "version": 3
   },
   "file_extension": ".py",
   "mimetype": "text/x-python",
   "name": "python",
   "nbconvert_exporter": "python",
   "pygments_lexer": "ipython3",
   "version": "3.9.20"
  }
 },
 "nbformat": 4,
 "nbformat_minor": 2
}
